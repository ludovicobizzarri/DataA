{
 "cells": [
  {
   "cell_type": "code",
   "execution_count": 4,
   "metadata": {},
   "outputs": [],
   "source": [
    "import numpy as np\n",
    "import matplotlib.pyplot as plt\n",
    "from functools import reduce\n",
    "from scipy.stats import norm\n",
    "from scipy.stats import median_abs_deviation\n",
    "from scipy.optimize import curve_fit\n",
    "\n",
    "from astropy.io import fits\n",
    "import astropy.units as u\n",
    "from astropy.visualization import quantity_support\n",
    "from astropy.cosmology import Planck18_arXiv_v2\n",
    "\n",
    "from sklearn.cluster import KMeans\n",
    "from sklearn import preprocessing\n",
    "from sklearn import mixture\n",
    "from sklearn.neighbors import KernelDensity\n",
    "\n",
    "from astroML.linear_model import PolynomialRegression\n",
    "\n",
    "import pandas as pd\n",
    "\n",
    "rc = {\"font.family\" : \"serif\", \n",
    "      \"mathtext.fontset\" : \"cm\",\n",
    "      \"font.size\" : \"14\",\n",
    "      \"figure.figsize\" : [10,5]}\n",
    "plt.rcParams.update(rc)\n",
    "\n",
    "%config InlineBackend.figure_format='retina'"
   ]
  },
  {
   "cell_type": "code",
   "execution_count": 5,
   "metadata": {},
   "outputs": [],
   "source": [
    "#reading file\n",
    "\n",
    "mwsc = 'browse_results.fits'\n",
    "\n",
    "file = fits.open(mwsc)\n",
    "data_mwsc = file[1].data\n",
    "header_mwsc = file[1].header\n",
    "file.close()"
   ]
  },
  {
   "cell_type": "code",
   "execution_count": 6,
   "metadata": {},
   "outputs": [
    {
     "data": {
      "text/plain": [
       "XTENSION= 'TABLE   '           / ASCII table extension                          \n",
       "BITPIX  =                    8 / Mandatory value                                \n",
       "NAXIS   =                    2 / Mandatory value                                \n",
       "NAXIS1  =                   84 / Length of row                                  \n",
       "NAXIS2  =                 1000 / Number of rows                                 \n",
       "PCOUNT  =                    0 / Mandatory value                                \n",
       "GCOUNT  =                    1 / Mandatory value                                \n",
       "TFIELDS =                    9 / Number of fields                               \n",
       "                                                                                \n",
       "EXTNAME = 'MWSC'               / Extension name                                 \n",
       "TABLE   = 'heasarc_mwsc'       / Table designation                              \n",
       "TAB_DESC= 'Milky Way Star Clusters Catalog'                                     \n",
       "TAB_URL = 'https://heasarc.gsfc.nasa.gov/W3Browse/star-catalog/mwsc.html'       \n",
       "                                                                                \n",
       "TTYPE1  = 'NAME'                                                                \n",
       "TFORM1  = 'A17     '                                                            \n",
       "TNULL1  = '                 '                                                   \n",
       "TBCOL1  =                    1                                                  \n",
       "TTYPE2  = 'RA'                                                                  \n",
       "TFORM2  = 'F7.3    '                                                            \n",
       "TUNIT2  = 'deg'                                                                 \n",
       "TNULL2  = '       '                                                             \n",
       "TDISP2  = 'F7.3    '                                                            \n",
       "TBCOL2  =                   19                                                  \n",
       "TTYPE3  = 'DEC'                                                                 \n",
       "TFORM3  = 'F6.3    '                                                            \n",
       "TUNIT3  = 'deg'                                                                 \n",
       "TNULL3  = '      '                                                              \n",
       "TDISP3  = 'F6.3    '                                                            \n",
       "TBCOL3  =                   27                                                  \n",
       "TTYPE4  = 'CLUSTER_RADIUS'                                                      \n",
       "TFORM4  = 'F7.3    '                                                            \n",
       "TUNIT4  = 'deg'                                                                 \n",
       "TNULL4  = '       '                                                             \n",
       "TDISP4  = 'F7.3    '                                                            \n",
       "TBCOL4  =                   34                                                  \n",
       "TTYPE5  = 'RAD_VEL'                                                             \n",
       "TFORM5  = 'F8.2    '                                                            \n",
       "TUNIT5  = 'km/s'                                                                \n",
       "TNULL5  = '        '                                                            \n",
       "TDISP5  = 'F8.2    '                                                            \n",
       "TBCOL5  =                   42                                                  \n",
       "TTYPE6  = 'RAD_VEL_ERROR'                                                       \n",
       "TFORM6  = 'F8.2    '                                                            \n",
       "TUNIT6  = 'km/s'                                                                \n",
       "TNULL6  = '        '                                                            \n",
       "TDISP6  = 'F8.2    '                                                            \n",
       "TBCOL6  =                   51                                                  \n",
       "TTYPE7  = 'DISTANCE'                                                            \n",
       "TFORM7  = 'F8.0    '                                                            \n",
       "TUNIT7  = 'pc'                                                                  \n",
       "TNULL7  = '        '                                                            \n",
       "TDISP7  = 'F8.0    '                                                            \n",
       "TBCOL7  =                   60                                                  \n",
       "TTYPE8  = 'LOG_AGE'                                                             \n",
       "TFORM8  = 'F7.3    '                                                            \n",
       "TUNIT8  = 'log'                                                                 \n",
       "TNULL8  = '       '                                                             \n",
       "TDISP8  = 'F7.3    '                                                            \n",
       "TBCOL8  =                   69                                                  \n",
       "TTYPE9  = 'LOG_AGE_ERROR'                                                       \n",
       "TFORM9  = 'F7.3    '                                                            \n",
       "TUNIT9  = 'log'                                                                 \n",
       "TNULL9  = '       '                                                             \n",
       "TDISP9  = 'F7.3    '                                                            \n",
       "TBCOL9  =                   77                                                  "
      ]
     },
     "execution_count": 6,
     "metadata": {},
     "output_type": "execute_result"
    }
   ],
   "source": [
    "header_mwsc\n"
   ]
  },
  {
   "cell_type": "code",
   "execution_count": 29,
   "metadata": {},
   "outputs": [],
   "source": [
    "mask = (data_mwsc.field('DEC')>35) & (data_mwsc.field('DEC')<60) & (data_mwsc.field('RA')>15) & (data_mwsc.field('RA')<41) & (data_mwsc.field('CLUSTER_RADIUS')<0.22) & (data_mwsc.field('CLUSTER_RADIUS')>0.1) & (data_mwsc.field('LOG_AGE')<7.5)  \n",
    "\n",
    "new_data_mwsc = data_mwsc[mask]"
   ]
  },
  {
   "cell_type": "code",
   "execution_count": 30,
   "metadata": {
    "scrolled": false
   },
   "outputs": [
    {
     "name": "stdout",
     "output_type": "stream",
     "text": [
      "(2,)\n",
      "[('ASCC 7', 29.775, 58.925, 0.18, -49.0, 10.0, 2000.0, 7.4, 0.0)\n",
      " ('FSR 0614', 40.62, 56.735, 0.13, 0.0, 0.0, 2787.0, 6.75, 0.0)]\n"
     ]
    }
   ],
   "source": [
    "print(new_data_mwsc.field('NAME').shape)\n",
    "print(new_data_mwsc)"
   ]
  },
  {
   "cell_type": "code",
   "execution_count": 28,
   "metadata": {},
   "outputs": [
    {
     "name": "stdout",
     "output_type": "stream",
     "text": [
      "(0,)\n",
      "[]\n"
     ]
    }
   ],
   "source": [
    "print(new_data_mwsc.field('NAME').shape)\n",
    "print(new_data_mwsc)"
   ]
  },
  {
   "cell_type": "markdown",
   "metadata": {},
   "source": [
    "# NGC956"
   ]
  },
  {
   "cell_type": "code",
   "execution_count": 108,
   "metadata": {},
   "outputs": [],
   "source": [
    "#NGC catalogue\n",
    "\n",
    "NGC = 'NGC_catalog.fits'\n",
    "\n",
    "file = fits.open(NGC)\n",
    "data_NGC = file[1].data\n",
    "header_NGC = file[1].header\n",
    "file.close()"
   ]
  },
  {
   "cell_type": "code",
   "execution_count": 109,
   "metadata": {
    "scrolled": true
   },
   "outputs": [
    {
     "data": {
      "text/plain": [
       "XTENSION= 'TABLE   '           / Ascii Table Extension                          \n",
       "BITPIX  =                    8 / Character data                                 \n",
       "NAXIS   =                    2 / Simple 2-D matrix                              \n",
       "NAXIS1  =                  224 / Number of bytes per record                     \n",
       "NAXIS2  =                 4669 / Number of records                              \n",
       "PCOUNT  =                    0 / Get rid of random parameters                   \n",
       "GCOUNT  =                    1 / Only one group (isn't it obvious?)             \n",
       "TFIELDS =                   27 / Number of data fields (columns)                \n",
       "EQUINOX =               2000.0 / Equinox of coordinates (J system)              \n",
       "EPOCH   =               2000.0 / Epoch of coordinates                           \n",
       "EXTNAME = 'stars_q2/*'         / *Star catalogs for 650 sky areas               \n",
       "COMMENT  Note on stars_q2/*: The file names include the MWSC sequential number  \n",
       "         and a name of a cluster, preceeded by a prefix \"2m_\"                   \n",
       "         e.g. \"2m_0001_Berkeley_58.dat\" for the cluster Berkeley 58.            \n",
       "         =======================================================================\n",
       "TBCOL1  =                    1 / ============== Start column +0                 \n",
       "TUNIT1  = 'h       '           / Unit: hour                                     \n",
       "TFORM1  = 'F13.8   '           / Fortran Format                                 \n",
       "TDISP1  = 'F13.8   '           / Display Format for Binary Tables               \n",
       "TTYPE1  = 'RAhour  '           / Right Ascension J2000.0, epoch 2000.0          \n",
       "TBCOL2  =                   14 / ============== Start column +13                \n",
       "TUNIT2  = 'deg     '           / Unit: degree                                   \n",
       "TFORM2  = 'F13.7   '           / Fortran Format                                 \n",
       "TDISP2  = 'F13.7   '           / Display Format for Binary Tables               \n",
       "TTYPE2  = 'DEdeg   '           / Declination J2000.0, epoch 2000.0              \n",
       "TAMIN2  =          -90.0000000 / Allowed minimal value                          \n",
       "TAMAX2  =           90.0000000 / Allowed maximal value                          \n",
       "TBCOL3  =                   27 / ============== Start column +26                \n",
       "TUNIT3  = 'mag     '           / Unit: magnitude                                \n",
       "TFORM3  = 'F8.3    '           / Fortran Format                                 \n",
       "TDISP3  = 'F8.3    '           / Display Format for Binary Tables               \n",
       "TTYPE3  = 'Bmag    '           / ?=99.990 Blue magnitude (1)                    \n",
       "TBNUL3  =               99.990 / NULL (undefined) value                         \n",
       "TBCOL4  =                   35 / ============== Start column +34                \n",
       "TUNIT4  = 'mag     '           / Unit: magnitude                                \n",
       "TFORM4  = 'F8.3    '           / Fortran Format                                 \n",
       "TDISP4  = 'F8.3    '           / Display Format for Binary Tables               \n",
       "TTYPE4  = 'Vmag    '           / ?=99.990 Visual or red magnitude (2)           \n",
       "TBNUL4  =               99.990 / NULL (undefined) value                         \n",
       "TBCOL5  =                   43 / ============== Start column +42                \n",
       "TUNIT5  = 'mag     '           / Unit: magnitude                                \n",
       "TFORM5  = 'F8.3    '           / Fortran Format                                 \n",
       "TDISP5  = 'F8.3    '           / Display Format for Binary Tables               \n",
       "TTYPE5  = 'Jmag    '           / J magnitude 2MASS                              \n",
       "TBCOL6  =                   51 / ============== Start column +50                \n",
       "TUNIT6  = 'mag     '           / Unit: magnitude                                \n",
       "TFORM6  = 'F8.3    '           / Fortran Format                                 \n",
       "TDISP6  = 'F8.3    '           / Display Format for Binary Tables               \n",
       "TTYPE6  = 'Hmag    '           / H magnitude 2MASS                              \n",
       "TBCOL7  =                   59 / ============== Start column +58                \n",
       "TUNIT7  = 'mag     '           / Unit: magnitude                                \n",
       "TFORM7  = 'F8.3    '           / Fortran Format                                 \n",
       "TDISP7  = 'F8.3    '           / Display Format for Binary Tables               \n",
       "TTYPE7  = 'Ksmag   '           / Ks magnitude 2MASS                             \n",
       "TBCOL8  =                   67 / ============== Start column +66                \n",
       "TUNIT8  = 'mag     '           / Unit: magnitude                                \n",
       "TFORM8  = 'F7.3    '           / Fortran Format                                 \n",
       "TDISP8  = 'F7.3    '           / Display Format for Binary Tables               \n",
       "TTYPE8  = 'e_Jmag  '           / Error of J magnitude                           \n",
       "TAMIN8  =                0.000 / Allowed minimal value                          \n",
       "TBCOL9  =                   74 / ============== Start column +73                \n",
       "TUNIT9  = 'mag     '           / Unit: magnitude                                \n",
       "TFORM9  = 'F7.3    '           / Fortran Format                                 \n",
       "TDISP9  = 'F7.3    '           / Display Format for Binary Tables               \n",
       "TTYPE9  = 'e_Hmag  '           / Error of H magnitude                           \n",
       "TAMIN9  =                0.000 / Allowed minimal value                          \n",
       "TBCOL10 =                   81 / ============== Start column +80                \n",
       "TUNIT10 = 'mag     '           / Unit: magnitude                                \n",
       "TFORM10 = 'F7.3    '           / Fortran Format                                 \n",
       "TDISP10 = 'F7.3    '           / Display Format for Binary Tables               \n",
       "TTYPE10 = 'e_Ksmag '           / Error of Ks magnitude                          \n",
       "TAMIN10 =                0.000 / Allowed minimal value                          \n",
       "TBCOL11 =                   88 / ============== Start column +87                \n",
       "TUNIT11 = 'mas/yr  '           / Unit: milli-second of arc per year             \n",
       "TFORM11 = 'F10.2   '           / Fortran Format                                 \n",
       "TDISP11 = 'F10.2   '           / Display Format for Binary Tables               \n",
       "TTYPE11 = 'pmRA    '           / ?=9999.90 Proper Motion in RA*cos(DE)          \n",
       "TBNUL11 =              9999.90 / NULL (undefined) value                         \n",
       "TBCOL12 =                   98 / ============== Start column +97                \n",
       "TUNIT12 = 'mas/yr  '           / Unit: milli-second of arc per year             \n",
       "TFORM12 = 'F10.2   '           / Fortran Format                                 \n",
       "TDISP12 = 'F10.2   '           / Display Format for Binary Tables               \n",
       "TTYPE12 = 'pmDE    '           / ?=9999.90 Proper Motion in DE                  \n",
       "TBNUL12 =              9999.90 / NULL (undefined) value                         \n",
       "TBCOL13 =                  108 / ============== Start column +107               \n",
       "TUNIT13 = 'mas/yr  '           / Unit: milli-second of arc per year             \n",
       "TFORM13 = 'F8.2    '           / Fortran Format                                 \n",
       "TDISP13 = 'F8.2    '           / Display Format for Binary Tables               \n",
       "TTYPE13 = 'e_pm    '           / ?=-9.99 Error of pm                            \n",
       "TAMIN13 =                 0.00 / Allowed minimal value                          \n",
       "TBNUL13 =                -9.99 / NULL (undefined) value                         \n",
       "TBCOL14 =                  116 / ============== Start column +115               \n",
       "TUNIT14 = 'km/s    '           / Unit: kilometre per second                     \n",
       "TFORM14 = 'F9.2    '           / Fortran Format                                 \n",
       "TDISP14 = 'F9.2    '           / Display Format for Binary Tables               \n",
       "TTYPE14 = 'RV      '           / ?=999.99 Radial velocity                       \n",
       "TBNUL14 =               999.99 / NULL (undefined) value                         \n",
       "TBCOL15 =                  125 / ============== Start column +124               \n",
       "TUNIT15 = 'km/s    '           / Unit: kilometre per second                     \n",
       "TFORM15 = 'F7.2    '           / Fortran Format                                 \n",
       "TDISP15 = 'F7.2    '           / Display Format for Binary Tables               \n",
       "TTYPE15 = 'e_RV    '           / ?=-9.99 Error of RV                            \n",
       "TAMIN15 =                 0.00 / Allowed minimal value                          \n",
       "TBNUL15 =                -9.99 / NULL (undefined) value                         \n",
       "TBCOL16 =                  133 / ============== Start column +132               \n",
       "TFORM16 = 'A3      '           / Fortran Format                                 \n",
       "TTYPE16 = 'Qflg    '           / 2MASS (ph_qual) JHKs Photometric quality flag  \n",
       "TBCOL17 =                  136 / ============== Start column +135               \n",
       "TFORM17 = 'A3      '           / Fortran Format                                 \n",
       "TTYPE17 = 'Rflg    '           / 2MASS (rd_flg) Source of JHKs default mag      \n",
       "TBCOL18 =                  139 / ============== Start column +138               \n",
       "TFORM18 = 'A3      '           / Fortran Format                                 \n",
       "TTYPE18 = 'Bflg    '           / 2MASS (bl_flg) JHKs components fit to source   \n",
       "TBCOL19 =                  142 / ============== Start column +141               \n",
       "TFORM19 = 'A14     '           / Fortran Format                                 \n",
       "TTYPE19 = '2MASS   '           / 2MASS (pts_key) Unique identifier in 2MASS     \n",
       "TBCOL20 =                  156 / ============== Start column +155               \n",
       "TFORM20 = 'I8      '           / Fortran Format                                 \n",
       "TDISP20 = 'I8      '           / Display Format for Binary Tables               \n",
       "TTYPE20 = 'ASCC    '           / ?=0 ASCC-2.5 number                            \n",
       "TBNUL20 =                    0 / NULL (undefined) value                         \n",
       "TBCOL21 =                  165 / ============== Start column +164               \n",
       "TFORM21 = 'A20     '           / Fortran Format                                 \n",
       "TTYPE21 = 'SpType  '           / Spectral type and luminosity class             \n",
       "TBCOL22 =                  186 / ============== Start column +185               \n",
       "TUNIT22 = 'deg     '           / Unit: degree                                   \n",
       "TFORM22 = 'F8.4    '           / Fortran Format                                 \n",
       "TDISP22 = 'F8.4    '           / Display Format for Binary Tables               \n",
       "TTYPE22 = 'Rcl     '           / Angular distance from cluster centre           \n",
       "TBCOL23 =                  195 / ============== Start column +194               \n",
       "TFORM23 = 'I1      '           / Fortran Format                                 \n",
       "TDISP23 = 'I1      '           / Display Format for Binary Tables               \n",
       "TTYPE23 = 'Ps      '           / [0,1] Spatial probability of membership        \n",
       "TAMIN23 =                    0 / Allowed minimal value                          \n",
       "TAMAX23 =                    1 / Allowed maximal value                          \n",
       "TBCOL24 =                  198 / ============== Start column +197               \n",
       "TUNIT24 = '%       '           / Unit: percent                                  \n",
       "TFORM24 = 'F6.2    '           / Fortran Format                                 \n",
       "TDISP24 = 'F6.2    '           / Display Format for Binary Tables               \n",
       "TTYPE24 = 'Pkin    '           / Proper motion probability of membership        \n",
       "TBCOL25 =                  206 / ============== Start column +205               \n",
       "TUNIT25 = '%       '           / Unit: percent                                  \n",
       "TFORM25 = 'F6.2    '           / Fortran Format                                 \n",
       "TDISP25 = 'F6.2    '           / Display Format for Binary Tables               \n",
       "TTYPE25 = 'PJKs    '           / Photometric JKs probability of membership      \n",
       "TBCOL26 =                  214 / ============== Start column +213               \n",
       "TUNIT26 = '%       '           / Unit: percent                                  \n",
       "TFORM26 = 'F6.2    '           / Fortran Format                                 \n",
       "TDISP26 = 'F6.2    '           / Display Format for Binary Tables               \n",
       "TTYPE26 = 'PJH     '           / Photometric JH probability of membership       \n",
       "TBCOL27 =                  221 / ============== Start column +220               \n",
       "TFORM27 = 'I04     '           / Fortran Format                                 \n",
       "TDISP27 = 'I04     '           / Display Format for Binary Tables               \n",
       "TTYPE27 = 'MWSC    '           / MWSC cluster number                            \n",
       "         =======================================================================\n",
       "COMMENT  Note (1): Blue magnitude, if the star is in the ASCC-2.5 (ASCC is not  \n",
       "         equal 0),                                                              \n",
       "         then this is the Johnson B magnitude from ASCC-2.5;                    \n",
       "         if the star is not in the ASCC-2.5 (ASCC = 0), then this is the        \n",
       "         photographic                                                           \n",
       "         blue magnitude from USNO-A2.0.                                         \n",
       "COMMENT  Note (2): Visual or red magnitude, if the star is in the ASCC-2.5      \n",
       "         (ASCC is not equal 0), then this is the Johnson V magnitude from       \n",
       "         ASCC-2.5;                                                              \n",
       "         if the star is not in the ASCC-2.5 (ASCC = 0), then this is the        \n",
       "         photographic                                                           \n",
       "         red magnitude from USNO-A2.0.                                          \n",
       "         ======================================================================="
      ]
     },
     "execution_count": 109,
     "metadata": {},
     "output_type": "execute_result"
    }
   ],
   "source": [
    "header_NGC"
   ]
  },
  {
   "cell_type": "code",
   "execution_count": 110,
   "metadata": {
    "scrolled": true
   },
   "outputs": [
    {
     "data": {
      "text/plain": [
       "array([  9.357,   9.75 ,   8.253, ..., -99.99 , -99.99 , -99.99 ])"
      ]
     },
     "execution_count": 110,
     "metadata": {},
     "output_type": "execute_result"
    }
   ],
   "source": [
    "data_NGC.field('Vmag    ')"
   ]
  },
  {
   "cell_type": "code",
   "execution_count": 111,
   "metadata": {},
   "outputs": [
    {
     "name": "stdout",
     "output_type": "stream",
     "text": [
      "[ 8.253  8.424  8.684 ... 19.2   19.3   19.3  ]\n",
      "16.188251924063625\n"
     ]
    }
   ],
   "source": [
    "mask_V = data_NGC.field('Vmag    ')>-99.99\n",
    "\n",
    "new_NGC_data = data_NGC[mask_V]\n",
    "V_ordered = np.sort(new_NGC_data.field('Vmag    '))\n",
    "print(V_ordered)\n",
    "print(np.mean(V_ordered))"
   ]
  },
  {
   "cell_type": "markdown",
   "metadata": {},
   "source": [
    "Compute the ADU/s rate"
   ]
  },
  {
   "cell_type": "code",
   "execution_count": 87,
   "metadata": {},
   "outputs": [],
   "source": [
    "#functions"
   ]
  },
  {
   "cell_type": "code",
   "execution_count": 112,
   "metadata": {},
   "outputs": [],
   "source": [
    "def flux_nu(m): \n",
    "    return 10**(-m/2.5) * 3631 #Jy\n",
    "    \n",
    "\n",
    "def flux_lambda (m):\n",
    "    return flux_nu(m) / (3.34*10**4) / (5500)**2\n",
    "\n",
    "def electron_rate_ADU(m):\n",
    "    C_Ha = 15.39\n",
    "    C_OII = 15.28\n",
    "    C_SII = 15.47\n",
    "    \n",
    "    return flux_lambda(m) * 10**C_Ha  / (0.6)"
   ]
  },
  {
   "cell_type": "code",
   "execution_count": 116,
   "metadata": {},
   "outputs": [
    {
     "name": "stdout",
     "output_type": "stream",
     "text": [
      "4.868589439619688\n"
     ]
    }
   ],
   "source": [
    "m_max = 8.253\n",
    "m_avg = 16.2\n",
    "\n",
    "S = electron_rate_ADU(m_avg)\n",
    "print(S)"
   ]
  },
  {
   "cell_type": "markdown",
   "metadata": {},
   "source": [
    "Compute SNR"
   ]
  },
  {
   "cell_type": "code",
   "execution_count": 120,
   "metadata": {},
   "outputs": [
    {
     "data": {
      "text/plain": [
       "[<matplotlib.lines.Line2D at 0x1a6c01f6250>]"
      ]
     },
     "execution_count": 120,
     "metadata": {},
     "output_type": "execute_result"
    },
    {
     "data": {
      "image/png": "[encoded data removed]",
      "text/plain": [
       "<Figure size 720x360 with 1 Axes>"
      ]
     },
     "metadata": {
      "image/png": {
       "height": 342,
       "width": 605
      },
      "needs_background": "light"
     },
     "output_type": "display_data"
    }
   ],
   "source": [
    "t=np.arange(1, 1000, 10)\n",
    "n = 2.333 * 10**3\n",
    "S_B = 0.1\n",
    "C_D = 0.2\n",
    "\n",
    "SNR = S*t / np.sqrt(S*t + n*t*(S_B + C_D))\n",
    "\n",
    "plt.xlabel('time(s)')\n",
    "plt.ylabel('SNR')\n",
    "plt.title('Relation between SNR and exposure time')\n",
    "plt.plot(t, SNR)\n"
   ]
  },
  {
   "cell_type": "markdown",
   "metadata": {},
   "source": [
    "# FSR0614"
   ]
  },
  {
   "cell_type": "code",
   "execution_count": 121,
   "metadata": {},
   "outputs": [],
   "source": [
    "#FSR catalogue\n",
    "\n",
    "FSR = 'FSR_catalog.fits'\n",
    "\n",
    "file = fits.open(FSR)\n",
    "data_FSR = file[1].data\n",
    "header_FSR = file[1].header\n",
    "file.close()"
   ]
  },
  {
   "cell_type": "code",
   "execution_count": 122,
   "metadata": {
    "scrolled": true
   },
   "outputs": [
    {
     "data": {
      "text/plain": [
       "XTENSION= 'TABLE   '           / Ascii Table Extension                          \n",
       "BITPIX  =                    8 / Character data                                 \n",
       "NAXIS   =                    2 / Simple 2-D matrix                              \n",
       "NAXIS1  =                  224 / Number of bytes per record                     \n",
       "NAXIS2  =                10348 / Number of records                              \n",
       "PCOUNT  =                    0 / Get rid of random parameters                   \n",
       "GCOUNT  =                    1 / Only one group (isn't it obvious?)             \n",
       "TFIELDS =                   27 / Number of data fields (columns)                \n",
       "EQUINOX =               2000.0 / Equinox of coordinates (J system)              \n",
       "EPOCH   =               2000.0 / Epoch of coordinates                           \n",
       "EXTNAME = 'stars_q2/*'         / *Star catalogs for 650 sky areas               \n",
       "COMMENT  Note on stars_q2/*: The file names include the MWSC sequential number  \n",
       "         and a name of a cluster, preceeded by a prefix \"2m_\"                   \n",
       "         e.g. \"2m_0001_Berkeley_58.dat\" for the cluster Berkeley 58.            \n",
       "         =======================================================================\n",
       "TBCOL1  =                    1 / ============== Start column +0                 \n",
       "TUNIT1  = 'h       '           / Unit: hour                                     \n",
       "TFORM1  = 'F13.8   '           / Fortran Format                                 \n",
       "TDISP1  = 'F13.8   '           / Display Format for Binary Tables               \n",
       "TTYPE1  = 'RAhour  '           / Right Ascension J2000.0, epoch 2000.0          \n",
       "TBCOL2  =                   14 / ============== Start column +13                \n",
       "TUNIT2  = 'deg     '           / Unit: degree                                   \n",
       "TFORM2  = 'F13.7   '           / Fortran Format                                 \n",
       "TDISP2  = 'F13.7   '           / Display Format for Binary Tables               \n",
       "TTYPE2  = 'DEdeg   '           / Declination J2000.0, epoch 2000.0              \n",
       "TAMIN2  =          -90.0000000 / Allowed minimal value                          \n",
       "TAMAX2  =           90.0000000 / Allowed maximal value                          \n",
       "TBCOL3  =                   27 / ============== Start column +26                \n",
       "TUNIT3  = 'mag     '           / Unit: magnitude                                \n",
       "TFORM3  = 'F8.3    '           / Fortran Format                                 \n",
       "TDISP3  = 'F8.3    '           / Display Format for Binary Tables               \n",
       "TTYPE3  = 'Bmag    '           / ?=99.990 Blue magnitude (1)                    \n",
       "TBNUL3  =               99.990 / NULL (undefined) value                         \n",
       "TBCOL4  =                   35 / ============== Start column +34                \n",
       "TUNIT4  = 'mag     '           / Unit: magnitude                                \n",
       "TFORM4  = 'F8.3    '           / Fortran Format                                 \n",
       "TDISP4  = 'F8.3    '           / Display Format for Binary Tables               \n",
       "TTYPE4  = 'Vmag    '           / ?=99.990 Visual or red magnitude (2)           \n",
       "TBNUL4  =               99.990 / NULL (undefined) value                         \n",
       "TBCOL5  =                   43 / ============== Start column +42                \n",
       "TUNIT5  = 'mag     '           / Unit: magnitude                                \n",
       "TFORM5  = 'F8.3    '           / Fortran Format                                 \n",
       "TDISP5  = 'F8.3    '           / Display Format for Binary Tables               \n",
       "TTYPE5  = 'Jmag    '           / J magnitude 2MASS                              \n",
       "TBCOL6  =                   51 / ============== Start column +50                \n",
       "TUNIT6  = 'mag     '           / Unit: magnitude                                \n",
       "TFORM6  = 'F8.3    '           / Fortran Format                                 \n",
       "TDISP6  = 'F8.3    '           / Display Format for Binary Tables               \n",
       "TTYPE6  = 'Hmag    '           / H magnitude 2MASS                              \n",
       "TBCOL7  =                   59 / ============== Start column +58                \n",
       "TUNIT7  = 'mag     '           / Unit: magnitude                                \n",
       "TFORM7  = 'F8.3    '           / Fortran Format                                 \n",
       "TDISP7  = 'F8.3    '           / Display Format for Binary Tables               \n",
       "TTYPE7  = 'Ksmag   '           / Ks magnitude 2MASS                             \n",
       "TBCOL8  =                   67 / ============== Start column +66                \n",
       "TUNIT8  = 'mag     '           / Unit: magnitude                                \n",
       "TFORM8  = 'F7.3    '           / Fortran Format                                 \n",
       "TDISP8  = 'F7.3    '           / Display Format for Binary Tables               \n",
       "TTYPE8  = 'e_Jmag  '           / Error of J magnitude                           \n",
       "TAMIN8  =                0.000 / Allowed minimal value                          \n",
       "TBCOL9  =                   74 / ============== Start column +73                \n",
       "TUNIT9  = 'mag     '           / Unit: magnitude                                \n",
       "TFORM9  = 'F7.3    '           / Fortran Format                                 \n",
       "TDISP9  = 'F7.3    '           / Display Format for Binary Tables               \n",
       "TTYPE9  = 'e_Hmag  '           / Error of H magnitude                           \n",
       "TAMIN9  =                0.000 / Allowed minimal value                          \n",
       "TBCOL10 =                   81 / ============== Start column +80                \n",
       "TUNIT10 = 'mag     '           / Unit: magnitude                                \n",
       "TFORM10 = 'F7.3    '           / Fortran Format                                 \n",
       "TDISP10 = 'F7.3    '           / Display Format for Binary Tables               \n",
       "TTYPE10 = 'e_Ksmag '           / Error of Ks magnitude                          \n",
       "TAMIN10 =                0.000 / Allowed minimal value                          \n",
       "TBCOL11 =                   88 / ============== Start column +87                \n",
       "TUNIT11 = 'mas/yr  '           / Unit: milli-second of arc per year             \n",
       "TFORM11 = 'F10.2   '           / Fortran Format                                 \n",
       "TDISP11 = 'F10.2   '           / Display Format for Binary Tables               \n",
       "TTYPE11 = 'pmRA    '           / ?=9999.90 Proper Motion in RA*cos(DE)          \n",
       "TBNUL11 =              9999.90 / NULL (undefined) value                         \n",
       "TBCOL12 =                   98 / ============== Start column +97                \n",
       "TUNIT12 = 'mas/yr  '           / Unit: milli-second of arc per year             \n",
       "TFORM12 = 'F10.2   '           / Fortran Format                                 \n",
       "TDISP12 = 'F10.2   '           / Display Format for Binary Tables               \n",
       "TTYPE12 = 'pmDE    '           / ?=9999.90 Proper Motion in DE                  \n",
       "TBNUL12 =              9999.90 / NULL (undefined) value                         \n",
       "TBCOL13 =                  108 / ============== Start column +107               \n",
       "TUNIT13 = 'mas/yr  '           / Unit: milli-second of arc per year             \n",
       "TFORM13 = 'F8.2    '           / Fortran Format                                 \n",
       "TDISP13 = 'F8.2    '           / Display Format for Binary Tables               \n",
       "TTYPE13 = 'e_pm    '           / ?=-9.99 Error of pm                            \n",
       "TAMIN13 =                 0.00 / Allowed minimal value                          \n",
       "TBNUL13 =                -9.99 / NULL (undefined) value                         \n",
       "TBCOL14 =                  116 / ============== Start column +115               \n",
       "TUNIT14 = 'km/s    '           / Unit: kilometre per second                     \n",
       "TFORM14 = 'F9.2    '           / Fortran Format                                 \n",
       "TDISP14 = 'F9.2    '           / Display Format for Binary Tables               \n",
       "TTYPE14 = 'RV      '           / ?=999.99 Radial velocity                       \n",
       "TBNUL14 =               999.99 / NULL (undefined) value                         \n",
       "TBCOL15 =                  125 / ============== Start column +124               \n",
       "TUNIT15 = 'km/s    '           / Unit: kilometre per second                     \n",
       "TFORM15 = 'F7.2    '           / Fortran Format                                 \n",
       "TDISP15 = 'F7.2    '           / Display Format for Binary Tables               \n",
       "TTYPE15 = 'e_RV    '           / ?=-9.99 Error of RV                            \n",
       "TAMIN15 =                 0.00 / Allowed minimal value                          \n",
       "TBNUL15 =                -9.99 / NULL (undefined) value                         \n",
       "TBCOL16 =                  133 / ============== Start column +132               \n",
       "TFORM16 = 'A3      '           / Fortran Format                                 \n",
       "TTYPE16 = 'Qflg    '           / 2MASS (ph_qual) JHKs Photometric quality flag  \n",
       "TBCOL17 =                  136 / ============== Start column +135               \n",
       "TFORM17 = 'A3      '           / Fortran Format                                 \n",
       "TTYPE17 = 'Rflg    '           / 2MASS (rd_flg) Source of JHKs default mag      \n",
       "TBCOL18 =                  139 / ============== Start column +138               \n",
       "TFORM18 = 'A3      '           / Fortran Format                                 \n",
       "TTYPE18 = 'Bflg    '           / 2MASS (bl_flg) JHKs components fit to source   \n",
       "TBCOL19 =                  142 / ============== Start column +141               \n",
       "TFORM19 = 'A14     '           / Fortran Format                                 \n",
       "TTYPE19 = '2MASS   '           / 2MASS (pts_key) Unique identifier in 2MASS     \n",
       "TBCOL20 =                  156 / ============== Start column +155               \n",
       "TFORM20 = 'I8      '           / Fortran Format                                 \n",
       "TDISP20 = 'I8      '           / Display Format for Binary Tables               \n",
       "TTYPE20 = 'ASCC    '           / ?=0 ASCC-2.5 number                            \n",
       "TBNUL20 =                    0 / NULL (undefined) value                         \n",
       "TBCOL21 =                  165 / ============== Start column +164               \n",
       "TFORM21 = 'A20     '           / Fortran Format                                 \n",
       "TTYPE21 = 'SpType  '           / Spectral type and luminosity class             \n",
       "TBCOL22 =                  186 / ============== Start column +185               \n",
       "TUNIT22 = 'deg     '           / Unit: degree                                   \n",
       "TFORM22 = 'F8.4    '           / Fortran Format                                 \n",
       "TDISP22 = 'F8.4    '           / Display Format for Binary Tables               \n",
       "TTYPE22 = 'Rcl     '           / Angular distance from cluster centre           \n",
       "TBCOL23 =                  195 / ============== Start column +194               \n",
       "TFORM23 = 'I1      '           / Fortran Format                                 \n",
       "TDISP23 = 'I1      '           / Display Format for Binary Tables               \n",
       "TTYPE23 = 'Ps      '           / [0,1] Spatial probability of membership        \n",
       "TAMIN23 =                    0 / Allowed minimal value                          \n",
       "TAMAX23 =                    1 / Allowed maximal value                          \n",
       "TBCOL24 =                  198 / ============== Start column +197               \n",
       "TUNIT24 = '%       '           / Unit: percent                                  \n",
       "TFORM24 = 'F6.2    '           / Fortran Format                                 \n",
       "TDISP24 = 'F6.2    '           / Display Format for Binary Tables               \n",
       "TTYPE24 = 'Pkin    '           / Proper motion probability of membership        \n",
       "TBCOL25 =                  206 / ============== Start column +205               \n",
       "TUNIT25 = '%       '           / Unit: percent                                  \n",
       "TFORM25 = 'F6.2    '           / Fortran Format                                 \n",
       "TDISP25 = 'F6.2    '           / Display Format for Binary Tables               \n",
       "TTYPE25 = 'PJKs    '           / Photometric JKs probability of membership      \n",
       "TBCOL26 =                  214 / ============== Start column +213               \n",
       "TUNIT26 = '%       '           / Unit: percent                                  \n",
       "TFORM26 = 'F6.2    '           / Fortran Format                                 \n",
       "TDISP26 = 'F6.2    '           / Display Format for Binary Tables               \n",
       "TTYPE26 = 'PJH     '           / Photometric JH probability of membership       \n",
       "TBCOL27 =                  221 / ============== Start column +220               \n",
       "TFORM27 = 'I04     '           / Fortran Format                                 \n",
       "TDISP27 = 'I04     '           / Display Format for Binary Tables               \n",
       "TTYPE27 = 'MWSC    '           / MWSC cluster number                            \n",
       "         =======================================================================\n",
       "COMMENT  Note (1): Blue magnitude, if the star is in the ASCC-2.5 (ASCC is not  \n",
       "         equal 0),                                                              \n",
       "         then this is the Johnson B magnitude from ASCC-2.5;                    \n",
       "         if the star is not in the ASCC-2.5 (ASCC = 0), then this is the        \n",
       "         photographic                                                           \n",
       "         blue magnitude from USNO-A2.0.                                         \n",
       "COMMENT  Note (2): Visual or red magnitude, if the star is in the ASCC-2.5      \n",
       "         (ASCC is not equal 0), then this is the Johnson V magnitude from       \n",
       "         ASCC-2.5;                                                              \n",
       "         if the star is not in the ASCC-2.5 (ASCC = 0), then this is the        \n",
       "         photographic                                                           \n",
       "         red magnitude from USNO-A2.0.                                          \n",
       "         ======================================================================="
      ]
     },
     "execution_count": 122,
     "metadata": {},
     "output_type": "execute_result"
    }
   ],
   "source": [
    "header_FSR"
   ]
  },
  {
   "cell_type": "code",
   "execution_count": 123,
   "metadata": {},
   "outputs": [
    {
     "name": "stdout",
     "output_type": "stream",
     "text": [
      "[ 8.27   8.54   8.623 ... 18.8   18.9   19.   ]\n",
      "16.741416728902163\n"
     ]
    }
   ],
   "source": [
    "mask_V = data_FSR.field('Vmag    ')>-99.99\n",
    "\n",
    "new_FSR_data = data_FSR[mask_V]\n",
    "V_ordered = np.sort(new_FSR_data.field('Vmag    '))\n",
    "print(V_ordered)\n",
    "print(np.mean(V_ordered))"
   ]
  },
  {
   "cell_type": "code",
   "execution_count": 125,
   "metadata": {},
   "outputs": [
    {
     "name": "stdout",
     "output_type": "stream",
     "text": [
      "3.0718722641867493\n"
     ]
    }
   ],
   "source": [
    "m_max = 8.27\n",
    "m_avg = 16.7\n",
    "\n",
    "S = electron_rate_ADU(m_avg)\n",
    "print(S)\n"
   ]
  },
  {
   "cell_type": "code",
   "execution_count": 126,
   "metadata": {},
   "outputs": [
    {
     "data": {
      "text/plain": [
       "[<matplotlib.lines.Line2D at 0x1a6c0c7e0d0>]"
      ]
     },
     "execution_count": 126,
     "metadata": {},
     "output_type": "execute_result"
    },
    {
     "data": {
      "image/png": "[encoded data removed]",
      "text/plain": [
       "<Figure size 720x360 with 1 Axes>"
      ]
     },
     "metadata": {
      "image/png": {
       "height": 342,
       "width": 619
      },
      "needs_background": "light"
     },
     "output_type": "display_data"
    }
   ],
   "source": [
    "t=np.arange(1, 1000, 10)\n",
    "n = 2.166 * 10**3\n",
    "S_B = 0.1\n",
    "C_D = 0.2\n",
    "\n",
    "SNR = S*t / np.sqrt(S*t + n*t*(S_B + C_D))\n",
    "\n",
    "plt.xlabel('time(s)')\n",
    "plt.ylabel('SNR')\n",
    "plt.title('Relation between SNR and exposure time')\n",
    "plt.plot(t, SNR)"
   ]
  },
  {
   "cell_type": "code",
   "execution_count": null,
   "metadata": {},
   "outputs": [],
   "source": []
  }
 ],
 "metadata": {
  "kernelspec": {
   "display_name": "Python 3",
   "language": "python",
   "name": "python3"
  },
  "language_info": {
   "codemirror_mode": {
    "name": "ipython",
    "version": 3
   },
   "file_extension": ".py",
   "mimetype": "text/x-python",
   "name": "python",
   "nbconvert_exporter": "python",
   "pygments_lexer": "ipython3",
   "version": "3.8.5"
  }
 },
 "nbformat": 4,
 "nbformat_minor": 4
}
